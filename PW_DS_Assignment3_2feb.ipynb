{
 "cells": [
  {
   "cell_type": "raw",
   "id": "b990c150-06b1-4cd4-923a-58b25aa2c07a",
   "metadata": {},
   "source": [
    "Assignment_3: Answers"
   ]
  },
  {
   "cell_type": "raw",
   "id": "e10f878a-0cd9-4ada-86bd-9d83faab3819",
   "metadata": {},
   "source": [
    "Ans.1. Use a for loop when you know the number of iterations or when iterating over sequences like lists, tuples, or dictionaries.\n",
    "\n",
    "    Use a while loop when the number of iterations is not known beforehand, when the loop should continue based on a changing condition, \n",
    "or when you need to repeatedly execute a block of code until a certain condition is met.\n",
    "\n",
    "\n",
    "When to Use a for Loop:\n",
    "\n",
    "- Iterating Over a Sequence: When you need to iterate over a sequence such as a list, tuple, string, or range of numbers, a for loop is often the most convenient choice.\n",
    "\n",
    "\n"
   ]
  },
  {
   "cell_type": "code",
   "execution_count": 1,
   "id": "a6032b1a-e788-4849-9fbf-9edd2d5c2462",
   "metadata": {},
   "outputs": [
    {
     "name": "stdout",
     "output_type": "stream",
     "text": [
      "apple\n",
      "banana\n",
      "cherry\n"
     ]
    }
   ],
   "source": [
    "#example\n",
    "\n",
    "fruits = [\"apple\", \"banana\", \"cherry\"]\n",
    "for fruit in fruits:\n",
    "    print(fruit)\n"
   ]
  },
  {
   "cell_type": "raw",
   "id": "8a8ebeae-708c-4fab-a074-d8234c319618",
   "metadata": {},
   "source": [
    "- Fixed Number of Iterations: When the number of iterations is known or fixed, using a for loop is more appropriate. \n",
    "This could be useful for iterating a specific number of times or through a fixed range of values."
   ]
  },
  {
   "cell_type": "code",
   "execution_count": 2,
   "id": "e267cc21-3046-4f42-a946-e793909d8907",
   "metadata": {},
   "outputs": [
    {
     "name": "stdout",
     "output_type": "stream",
     "text": [
      "0\n",
      "1\n",
      "2\n",
      "3\n",
      "4\n"
     ]
    }
   ],
   "source": [
    "#example\n",
    "\n",
    "for i in range(5):\n",
    "    print(i)\n"
   ]
  },
  {
   "cell_type": "raw",
   "id": "2a0b5b1d-fc43-47a2-b7fd-fc6c88a997ab",
   "metadata": {},
   "source": [
    "- Iterating Over Dictionary: When you need to iterate over the keys, values, or key-value pairs of a dictionary, \n",
    "for loops provide a concise and clear syntax."
   ]
  },
  {
   "cell_type": "code",
   "execution_count": 3,
   "id": "c0677a59-5c5f-43cc-9ddc-8bc394cb1ee8",
   "metadata": {},
   "outputs": [
    {
     "name": "stdout",
     "output_type": "stream",
     "text": [
      "name : John\n",
      "age : 30\n",
      "city : New York\n"
     ]
    }
   ],
   "source": [
    "#example \n",
    "\n",
    "person = {\"name\": \"John\", \"age\": 30, \"city\": \"New York\"}\n",
    "for key, value in person.items():\n",
    "    print(key, \":\", value)\n"
   ]
  },
  {
   "cell_type": "raw",
   "id": "2d94788f-76e6-4a80-b25e-eccbfa6e192f",
   "metadata": {},
   "source": [
    "When to Use a while Loop:\n",
    "\n",
    "- Unknown Number of Iterations: When the number of iterations is not known beforehand and depends on a \n",
    "condition that may change during the execution, a while loop is more suitable."
   ]
  },
  {
   "cell_type": "code",
   "execution_count": 4,
   "id": "02018f66-c028-4ac0-bb36-4e2229484c6e",
   "metadata": {},
   "outputs": [
    {
     "name": "stdout",
     "output_type": "stream",
     "text": [
      "0\n",
      "1\n",
      "2\n",
      "3\n",
      "4\n"
     ]
    }
   ],
   "source": [
    "#example\n",
    "\n",
    "count = 0\n",
    "while count < 5:\n",
    "    print(count)\n",
    "    count += 1\n"
   ]
  },
  {
   "cell_type": "raw",
   "id": "17920702-f4f0-4ace-971e-ae0f82dff012",
   "metadata": {},
   "source": [
    "- Continuous Execution: When you want to keep executing a block of code until a specific \n",
    "condition is met or indefinitely, a while loop is the appropriate choice."
   ]
  },
  {
   "cell_type": "code",
   "execution_count": null,
   "id": "24dbed93-22c3-4860-9254-fa96982191a5",
   "metadata": {},
   "outputs": [
    {
     "name": "stdin",
     "output_type": "stream",
     "text": [
      "Enter 'quit' to exit:  quite\n",
      "Enter 'quit' to exit:  exit\n"
     ]
    }
   ],
   "source": [
    "running = True\n",
    "while running:\n",
    "    user_input = input(\"Enter 'quit' to exit: \")\n",
    "    if user_input == 'quit':\n",
    "        running = False\n"
   ]
  },
  {
   "cell_type": "raw",
   "id": "271f4b55-3304-42b8-b606-d62dfb88ca18",
   "metadata": {},
   "source": [
    "- Conditional Looping: When you need to iterate based on a specific condition that may not involve iterating over a sequence, \n",
    "a while loop is often more flexible."
   ]
  },
  {
   "cell_type": "code",
   "execution_count": null,
   "id": "220f49f2-1d56-4721-926a-d66472ec3c76",
   "metadata": {},
   "outputs": [],
   "source": [
    "num = 1\n",
    "while num <= 100:\n",
    "    print(num)\n",
    "    num *= 2\n"
   ]
  },
  {
   "cell_type": "code",
   "execution_count": null,
   "id": "7d6dc742-c77c-4776-b3c1-5cc2b8c6ee7f",
   "metadata": {},
   "outputs": [],
   "source": [
    "#Ans.2.  print the sum and product of the first 10 natural numbers using both for and while loops:\n",
    "\n",
    "#Using Loop\n",
    "\n",
    "\n",
    "sum_result = 0\n",
    "product_result = 1\n",
    "\n",
    "# Calculating sum and product using for loop\n",
    "for i in range(1, 11):\n",
    "    sum_result += i\n",
    "    product_result *= i\n",
    "\n",
    "print(\"Sum of the first 10 natural numbers:\", sum_result)\n",
    "print(\"Product of the first 10 natural numbers:\", product_result)\n"
   ]
  },
  {
   "cell_type": "code",
   "execution_count": null,
   "id": "1d490f53-5bd2-442f-a761-49153c690e11",
   "metadata": {},
   "outputs": [],
   "source": [
    "# Using while loop\n",
    "sum_result = 0\n",
    "product_result = 1\n",
    "num = 1\n",
    "\n",
    "\n",
    "while num <= 10:\n",
    "    sum_result += num\n",
    "    product_result *= num\n",
    "    num += 1\n",
    "\n",
    "print(\"Sum of the first 10 natural numbers:\", sum_result)\n",
    "print(\"Product of the first 10 natural numbers:\", product_result)\n"
   ]
  },
  {
   "cell_type": "code",
   "execution_count": null,
   "id": "2b6a147f-f6c2-49aa-90c3-2bc1548361c6",
   "metadata": {},
   "outputs": [],
   "source": [
    "#Both programs will produce the same output, which is the sum and product of the first 10 natural numbers:\n",
    "\n",
    "Sum of the first 10 natural numbers: 55\n",
    "Product of the first 10 natural numbers: 3628800\n"
   ]
  },
  {
   "cell_type": "code",
   "execution_count": null,
   "id": "4995fbd4-7d8d-4b5b-ba9a-03c5462efcca",
   "metadata": {},
   "outputs": [],
   "source": [
    "#Ans.3.The program correctly handles the test case where 310 units of electricity are consumed, resulting in a total bill of Rs. 2250.\n",
    "\n",
    "def calculate_electricity_bill(units):\n",
    "    total_bill = 0\n",
    "    if units <= 100:\n",
    "        total_bill = units * 4.5\n",
    "    elif units <= 200:\n",
    "        total_bill = 100 * 4.5 + (units - 100) * 6\n",
    "    elif units <= 300:\n",
    "        total_bill = 100 * 4.5 + 100 * 6 + (units - 200) * 10\n",
    "    else:\n",
    "        total_bill = 100 * 4.5 + 100 * 6 + 100 * 10 + (units - 300) * 20\n",
    "    return total_bill\n",
    "\n",
    "def main():\n",
    "    try:\n",
    "        units = int(input(\"Enter the units of electricity consumed in a month: \"))\n",
    "        if units < 0:\n",
    "            print(\"Invalid input. Units cannot be negative.\")\n",
    "        else:\n",
    "            bill = calculate_electricity_bill(units)\n",
    "            print(\"Total electricity bill: Rs.\", bill)\n",
    "    except ValueError:\n",
    "        print(\"Invalid input. Please enter a valid number of units.\")\n",
    "\n",
    "if __name__ == \"__main__\":\n",
    "    main()\n"
   ]
  },
  {
   "cell_type": "code",
   "execution_count": null,
   "id": "2c317b6c-c8af-4147-9f33-a86bd03615d5",
   "metadata": {},
   "outputs": [],
   "source": [
    "#Ans.4. Both programs will produce the same output, which is a list of numbers whose cubes are divisible by 4 or 5. \n",
    "#These programs iterate through numbers from 1 to 100, calculate the cube of each number, and check if the cube is divisible \n",
    "#by 4 or 5. If it is, the number is appended to the cubes_list. Finally, the list is printed.\n",
    "\n",
    "\n",
    "# Using for loop\n",
    "\n",
    "cubes_list = []\n",
    "for num in range(1, 101):\n",
    "    cube = num ** 3\n",
    "    if cube % 4 == 0 or cube % 5 == 0:\n",
    "        cubes_list.append(num)\n",
    "print(\"Numbers whose cubes are divisible by 4 or 5 (using for loop):\", cubes_list)\n",
    "\n"
   ]
  },
  {
   "cell_type": "code",
   "execution_count": null,
   "id": "87e67290-8e62-4fb5-84e3-f93ae1e5f1fc",
   "metadata": {},
   "outputs": [],
   "source": [
    "# Using while loop\n",
    "cubes_list = []\n",
    "num = 1\n",
    "while num <= 100:\n",
    "    cube = num ** 3\n",
    "    if cube % 4 == 0 or cube % 5 == 0:\n",
    "        cubes_list.append(num)\n",
    "    num += 1\n",
    "print(\"Numbers whose cubes are divisible by 4 or 5 (using while loop):\", cubes_list)\n"
   ]
  },
  {
   "cell_type": "code",
   "execution_count": null,
   "id": "d11ee1c9-54ce-4447-bc51-83650de260c3",
   "metadata": {},
   "outputs": [],
   "source": [
    "#Ans.5.This program iterates through each character in the given string. For each character, \n",
    "#it checks if it is a vowel by comparing it with the characters in the vowels string. If the character is found in the vowels string, \n",
    "#the count of vowels is incremented. Finally, it prints the total count of vowels in the string.\n",
    "\n",
    "\n",
    "string = \"I want to become a data scientist\"\n",
    "vowels = 'aeiouAEIOU'\n",
    "vowel_count = 0\n",
    "\n",
    "for char in string:\n",
    "    if char in vowels:\n",
    "        vowel_count += 1\n",
    "\n",
    "print(\"Number of vowels in the string:\", vowel_count)\n"
   ]
  },
  {
   "cell_type": "code",
   "execution_count": null,
   "id": "23931c14-8380-4c7f-baa3-d39869de26a7",
   "metadata": {},
   "outputs": [],
   "source": []
  }
 ],
 "metadata": {
  "kernelspec": {
   "display_name": "Python 3 (ipykernel)",
   "language": "python",
   "name": "python3"
  },
  "language_info": {
   "codemirror_mode": {
    "name": "ipython",
    "version": 3
   },
   "file_extension": ".py",
   "mimetype": "text/x-python",
   "name": "python",
   "nbconvert_exporter": "python",
   "pygments_lexer": "ipython3",
   "version": "3.10.8"
  }
 },
 "nbformat": 4,
 "nbformat_minor": 5
}
